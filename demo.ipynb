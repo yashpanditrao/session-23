{
 "cells": [
  {
   "cell_type": "code",
   "execution_count": 25,
   "metadata": {},
   "outputs": [
    {
     "name": "stdout",
     "output_type": "stream",
     "text": [
      "Requirement already satisfied: fastapi in c:\\users\\casma\\appdata\\local\\programs\\python\\python311\\lib\\site-packages (0.115.2)"
     ]
    },
    {
     "name": "stderr",
     "output_type": "stream",
     "text": [
      "\n",
      "[notice] A new release of pip is available: 24.0 -> 24.3.1\n",
      "[notice] To update, run: python.exe -m pip install --upgrade pip\n"
     ]
    },
    {
     "name": "stdout",
     "output_type": "stream",
     "text": [
      "\n",
      "Requirement already satisfied: uvicorn in c:\\users\\casma\\appdata\\local\\programs\\python\\python311\\lib\\site-packages (0.31.1)\n",
      "Requirement already satisfied: supabase in c:\\users\\casma\\appdata\\local\\programs\\python\\python311\\lib\\site-packages (2.9.0)\n",
      "Requirement already satisfied: python-dotenv in c:\\users\\casma\\appdata\\local\\programs\\python\\python311\\lib\\site-packages (1.0.1)\n",
      "Requirement already satisfied: google-generativeai in c:\\users\\casma\\appdata\\local\\programs\\python\\python311\\lib\\site-packages (0.8.3)\n",
      "Requirement already satisfied: firecrawl-py in c:\\users\\casma\\appdata\\local\\programs\\python\\python311\\lib\\site-packages (1.6.1)\n",
      "Requirement already satisfied: faiss-cpu in c:\\users\\casma\\appdata\\local\\programs\\python\\python311\\lib\\site-packages (1.9.0)\n",
      "Requirement already satisfied: starlette<0.41.0,>=0.37.2 in c:\\users\\casma\\appdata\\local\\programs\\python\\python311\\lib\\site-packages (from fastapi) (0.39.2)\n",
      "Requirement already satisfied: pydantic!=1.8,!=1.8.1,!=2.0.0,!=2.0.1,!=2.1.0,<3.0.0,>=1.7.4 in c:\\users\\casma\\appdata\\local\\programs\\python\\python311\\lib\\site-packages (from fastapi) (2.10.4)\n",
      "Requirement already satisfied: typing-extensions>=4.8.0 in c:\\users\\casma\\appdata\\local\\programs\\python\\python311\\lib\\site-packages (from fastapi) (4.12.2)\n",
      "Requirement already satisfied: click>=7.0 in c:\\users\\casma\\appdata\\local\\programs\\python\\python311\\lib\\site-packages (from uvicorn) (8.1.7)\n",
      "Requirement already satisfied: h11>=0.8 in c:\\users\\casma\\appdata\\local\\programs\\python\\python311\\lib\\site-packages (from uvicorn) (0.14.0)\n",
      "Requirement already satisfied: gotrue<3.0.0,>=2.7.0 in c:\\users\\casma\\appdata\\local\\programs\\python\\python311\\lib\\site-packages (from supabase) (2.10.0)\n",
      "Requirement already satisfied: httpx<0.28,>=0.26 in c:\\users\\casma\\appdata\\local\\programs\\python\\python311\\lib\\site-packages (from supabase) (0.27.2)\n",
      "Requirement already satisfied: postgrest<0.18.0,>=0.17.0 in c:\\users\\casma\\appdata\\local\\programs\\python\\python311\\lib\\site-packages (from supabase) (0.17.1)\n",
      "Requirement already satisfied: realtime<3.0.0,>=2.0.0 in c:\\users\\casma\\appdata\\local\\programs\\python\\python311\\lib\\site-packages (from supabase) (2.0.5)\n",
      "Requirement already satisfied: storage3<0.9.0,>=0.8.0 in c:\\users\\casma\\appdata\\local\\programs\\python\\python311\\lib\\site-packages (from supabase) (0.8.1)\n",
      "Requirement already satisfied: supafunc<0.7.0,>=0.6.0 in c:\\users\\casma\\appdata\\local\\programs\\python\\python311\\lib\\site-packages (from supabase) (0.6.1)\n",
      "Requirement already satisfied: google-ai-generativelanguage==0.6.10 in c:\\users\\casma\\appdata\\local\\programs\\python\\python311\\lib\\site-packages (from google-generativeai) (0.6.10)\n",
      "Requirement already satisfied: google-api-core in c:\\users\\casma\\appdata\\local\\programs\\python\\python311\\lib\\site-packages (from google-generativeai) (2.21.0)\n",
      "Requirement already satisfied: google-api-python-client in c:\\users\\casma\\appdata\\local\\programs\\python\\python311\\lib\\site-packages (from google-generativeai) (2.149.0)\n",
      "Requirement already satisfied: google-auth>=2.15.0 in c:\\users\\casma\\appdata\\local\\programs\\python\\python311\\lib\\site-packages (from google-generativeai) (2.35.0)\n",
      "Requirement already satisfied: protobuf in c:\\users\\casma\\appdata\\local\\programs\\python\\python311\\lib\\site-packages (from google-generativeai) (5.28.2)\n",
      "Requirement already satisfied: tqdm in c:\\users\\casma\\appdata\\local\\programs\\python\\python311\\lib\\site-packages (from google-generativeai) (4.66.5)\n",
      "Requirement already satisfied: proto-plus<2.0.0dev,>=1.22.3 in c:\\users\\casma\\appdata\\local\\programs\\python\\python311\\lib\\site-packages (from google-ai-generativelanguage==0.6.10->google-generativeai) (1.24.0)\n",
      "Requirement already satisfied: requests in c:\\users\\casma\\appdata\\local\\programs\\python\\python311\\lib\\site-packages (from firecrawl-py) (2.32.3)\n",
      "Requirement already satisfied: websockets in c:\\users\\casma\\appdata\\local\\programs\\python\\python311\\lib\\site-packages (from firecrawl-py) (13.1)\n",
      "Requirement already satisfied: nest-asyncio in c:\\users\\casma\\appdata\\roaming\\python\\python311\\site-packages (from firecrawl-py) (1.6.0)\n",
      "Requirement already satisfied: numpy<3.0,>=1.25.0 in c:\\users\\casma\\appdata\\local\\programs\\python\\python311\\lib\\site-packages (from faiss-cpu) (1.26.4)\n",
      "Requirement already satisfied: packaging in c:\\users\\casma\\appdata\\local\\programs\\python\\python311\\lib\\site-packages (from faiss-cpu) (24.1)\n",
      "Requirement already satisfied: colorama in c:\\users\\casma\\appdata\\local\\programs\\python\\python311\\lib\\site-packages (from click>=7.0->uvicorn) (0.4.6)\n",
      "Requirement already satisfied: googleapis-common-protos<2.0.dev0,>=1.56.2 in c:\\users\\casma\\appdata\\local\\programs\\python\\python311\\lib\\site-packages (from google-api-core->google-generativeai) (1.65.0)\n",
      "Requirement already satisfied: cachetools<6.0,>=2.0.0 in c:\\users\\casma\\appdata\\local\\programs\\python\\python311\\lib\\site-packages (from google-auth>=2.15.0->google-generativeai) (5.5.0)\n",
      "Requirement already satisfied: pyasn1-modules>=0.2.1 in c:\\users\\casma\\appdata\\local\\programs\\python\\python311\\lib\\site-packages (from google-auth>=2.15.0->google-generativeai) (0.4.1)\n",
      "Requirement already satisfied: rsa<5,>=3.1.4 in c:\\users\\casma\\appdata\\local\\programs\\python\\python311\\lib\\site-packages (from google-auth>=2.15.0->google-generativeai) (4.9)\n",
      "Requirement already satisfied: anyio in c:\\users\\casma\\appdata\\local\\programs\\python\\python311\\lib\\site-packages (from httpx<0.28,>=0.26->supabase) (4.6.0)\n",
      "Requirement already satisfied: certifi in c:\\users\\casma\\appdata\\local\\programs\\python\\python311\\lib\\site-packages (from httpx<0.28,>=0.26->supabase) (2024.8.30)\n",
      "Requirement already satisfied: httpcore==1.* in c:\\users\\casma\\appdata\\local\\programs\\python\\python311\\lib\\site-packages (from httpx<0.28,>=0.26->supabase) (1.0.6)\n",
      "Requirement already satisfied: idna in c:\\users\\casma\\appdata\\local\\programs\\python\\python311\\lib\\site-packages (from httpx<0.28,>=0.26->supabase) (2.10)\n",
      "Requirement already satisfied: sniffio in c:\\users\\casma\\appdata\\local\\programs\\python\\python311\\lib\\site-packages (from httpx<0.28,>=0.26->supabase) (1.3.1)\n",
      "Requirement already satisfied: deprecation<3.0.0,>=2.1.0 in c:\\users\\casma\\appdata\\local\\programs\\python\\python311\\lib\\site-packages (from postgrest<0.18.0,>=0.17.0->supabase) (2.1.0)\n",
      "Requirement already satisfied: strenum<0.5.0,>=0.4.9 in c:\\users\\casma\\appdata\\local\\programs\\python\\python311\\lib\\site-packages (from postgrest<0.18.0,>=0.17.0->supabase) (0.4.15)\n",
      "Requirement already satisfied: annotated-types>=0.6.0 in c:\\users\\casma\\appdata\\local\\programs\\python\\python311\\lib\\site-packages (from pydantic!=1.8,!=1.8.1,!=2.0.0,!=2.0.1,!=2.1.0,<3.0.0,>=1.7.4->fastapi) (0.7.0)\n",
      "Requirement already satisfied: pydantic-core==2.27.2 in c:\\users\\casma\\appdata\\local\\programs\\python\\python311\\lib\\site-packages (from pydantic!=1.8,!=1.8.1,!=2.0.0,!=2.0.1,!=2.1.0,<3.0.0,>=1.7.4->fastapi) (2.27.2)\n",
      "Requirement already satisfied: aiohttp<4.0.0,>=3.10.6 in c:\\users\\casma\\appdata\\local\\programs\\python\\python311\\lib\\site-packages (from realtime<3.0.0,>=2.0.0->supabase) (3.10.10)\n",
      "Requirement already satisfied: python-dateutil<3.0.0,>=2.8.1 in c:\\users\\casma\\appdata\\local\\programs\\python\\python311\\lib\\site-packages (from realtime<3.0.0,>=2.0.0->supabase) (2.9.0.post0)\n",
      "Requirement already satisfied: charset-normalizer<4,>=2 in c:\\users\\casma\\appdata\\local\\programs\\python\\python311\\lib\\site-packages (from requests->firecrawl-py) (3.4.0)\n",
      "Requirement already satisfied: urllib3<3,>=1.21.1 in c:\\users\\casma\\appdata\\local\\programs\\python\\python311\\lib\\site-packages (from requests->firecrawl-py) (1.26.20)\n",
      "Requirement already satisfied: httplib2<1.dev0,>=0.19.0 in c:\\users\\casma\\appdata\\local\\programs\\python\\python311\\lib\\site-packages (from google-api-python-client->google-generativeai) (0.22.0)\n",
      "Requirement already satisfied: google-auth-httplib2<1.0.0,>=0.2.0 in c:\\users\\casma\\appdata\\local\\programs\\python\\python311\\lib\\site-packages (from google-api-python-client->google-generativeai) (0.2.0)\n",
      "Requirement already satisfied: uritemplate<5,>=3.0.1 in c:\\users\\casma\\appdata\\local\\programs\\python\\python311\\lib\\site-packages (from google-api-python-client->google-generativeai) (4.1.1)\n",
      "Requirement already satisfied: aiohappyeyeballs>=2.3.0 in c:\\users\\casma\\appdata\\local\\programs\\python\\python311\\lib\\site-packages (from aiohttp<4.0.0,>=3.10.6->realtime<3.0.0,>=2.0.0->supabase) (2.4.3)\n",
      "Requirement already satisfied: aiosignal>=1.1.2 in c:\\users\\casma\\appdata\\local\\programs\\python\\python311\\lib\\site-packages (from aiohttp<4.0.0,>=3.10.6->realtime<3.0.0,>=2.0.0->supabase) (1.3.1)\n",
      "Requirement already satisfied: attrs>=17.3.0 in c:\\users\\casma\\appdata\\local\\programs\\python\\python311\\lib\\site-packages (from aiohttp<4.0.0,>=3.10.6->realtime<3.0.0,>=2.0.0->supabase) (24.2.0)\n",
      "Requirement already satisfied: frozenlist>=1.1.1 in c:\\users\\casma\\appdata\\local\\programs\\python\\python311\\lib\\site-packages (from aiohttp<4.0.0,>=3.10.6->realtime<3.0.0,>=2.0.0->supabase) (1.4.1)\n",
      "Requirement already satisfied: multidict<7.0,>=4.5 in c:\\users\\casma\\appdata\\local\\programs\\python\\python311\\lib\\site-packages (from aiohttp<4.0.0,>=3.10.6->realtime<3.0.0,>=2.0.0->supabase) (6.1.0)\n",
      "Requirement already satisfied: yarl<2.0,>=1.12.0 in c:\\users\\casma\\appdata\\local\\programs\\python\\python311\\lib\\site-packages (from aiohttp<4.0.0,>=3.10.6->realtime<3.0.0,>=2.0.0->supabase) (1.15.1)\n",
      "Requirement already satisfied: grpcio<2.0dev,>=1.33.2 in c:\\users\\casma\\appdata\\local\\programs\\python\\python311\\lib\\site-packages (from google-api-core[grpc]!=2.0.*,!=2.1.*,!=2.10.*,!=2.2.*,!=2.3.*,!=2.4.*,!=2.5.*,!=2.6.*,!=2.7.*,!=2.8.*,!=2.9.*,<3.0.0dev,>=1.34.1->google-ai-generativelanguage==0.6.10->google-generativeai) (1.66.2)\n",
      "Requirement already satisfied: grpcio-status<2.0.dev0,>=1.33.2 in c:\\users\\casma\\appdata\\local\\programs\\python\\python311\\lib\\site-packages (from google-api-core[grpc]!=2.0.*,!=2.1.*,!=2.10.*,!=2.2.*,!=2.3.*,!=2.4.*,!=2.5.*,!=2.6.*,!=2.7.*,!=2.8.*,!=2.9.*,<3.0.0dev,>=1.34.1->google-ai-generativelanguage==0.6.10->google-generativeai) (1.66.2)\n",
      "Requirement already satisfied: pyparsing!=3.0.0,!=3.0.1,!=3.0.2,!=3.0.3,<4,>=2.4.2 in c:\\users\\casma\\appdata\\local\\programs\\python\\python311\\lib\\site-packages (from httplib2<1.dev0,>=0.19.0->google-api-python-client->google-generativeai) (3.1.4)\n",
      "Requirement already satisfied: h2<5,>=3 in c:\\users\\casma\\appdata\\local\\programs\\python\\python311\\lib\\site-packages (from httpx[http2]<0.28,>=0.26->gotrue<3.0.0,>=2.7.0->supabase) (4.1.0)\n",
      "Requirement already satisfied: pyasn1<0.7.0,>=0.4.6 in c:\\users\\casma\\appdata\\local\\programs\\python\\python311\\lib\\site-packages (from pyasn1-modules>=0.2.1->google-auth>=2.15.0->google-generativeai) (0.6.1)\n",
      "Requirement already satisfied: six>=1.5 in c:\\users\\casma\\appdata\\local\\programs\\python\\python311\\lib\\site-packages (from python-dateutil<3.0.0,>=2.8.1->realtime<3.0.0,>=2.0.0->supabase) (1.16.0)\n",
      "Requirement already satisfied: hyperframe<7,>=6.0 in c:\\users\\casma\\appdata\\local\\programs\\python\\python311\\lib\\site-packages (from h2<5,>=3->httpx[http2]<0.28,>=0.26->gotrue<3.0.0,>=2.7.0->supabase) (6.0.1)\n",
      "Requirement already satisfied: hpack<5,>=4.0 in c:\\users\\casma\\appdata\\local\\programs\\python\\python311\\lib\\site-packages (from h2<5,>=3->httpx[http2]<0.28,>=0.26->gotrue<3.0.0,>=2.7.0->supabase) (4.0.0)\n",
      "Requirement already satisfied: propcache>=0.2.0 in c:\\users\\casma\\appdata\\local\\programs\\python\\python311\\lib\\site-packages (from yarl<2.0,>=1.12.0->aiohttp<4.0.0,>=3.10.6->realtime<3.0.0,>=2.0.0->supabase) (0.2.0)\n"
     ]
    }
   ],
   "source": [
    "!pip install fastapi uvicorn supabase python-dotenv google-generativeai firecrawl-py faiss-cpu"
   ]
  },
  {
   "cell_type": "code",
   "execution_count": 26,
   "metadata": {},
   "outputs": [],
   "source": [
    "from fastapi import FastAPI, HTTPException, Request\n",
    "from fastapi.middleware.cors import CORSMiddleware\n",
    "import google.generativeai as genai\n",
    "import os\n",
    "from dotenv import load_dotenv\n",
    "import uvicorn\n",
    "import asyncio\n",
    "from supabase import create_client, Client\n",
    "from firecrawl import FirecrawlApp\n",
    "import logging\n",
    "from typing import List, Dict\n",
    "import numpy as np\n",
    "import json\n",
    "import faiss"
   ]
  },
  {
   "cell_type": "code",
   "execution_count": 27,
   "metadata": {},
   "outputs": [],
   "source": [
    "# Boilerplate. Load envs, load fastapi app, firecrawl, and configure gemini, supabase\n",
    "load_dotenv()\n",
    "app = FastAPI()\n",
    "# Configure CORS middleware\n",
    "app.add_middleware(\n",
    "    CORSMiddleware,\n",
    "    allow_origins=[\"*\"],  # Allows all origins\n",
    "    allow_credentials=True,\n",
    "    allow_methods=[\"*\"],  # Allows all methods\n",
    "    allow_headers=[\"*\"],  # Allows all headers\n",
    ")\n",
    "fcapp = FirecrawlApp(api_key=os.getenv(\"FIRECRAWL_KEY\"))\n",
    "genai.configure(api_key=os.getenv(\"GEMINI_KEY\"))\n",
    "supabase_url = os.getenv(\"SUPABASE_URL\")\n",
    "supabase_key = os.getenv(\"SUPABASE_ANON_KEY\")\n",
    "supabase: Client = create_client(supabase_url, supabase_key)\n",
    "# Configure logging\n",
    "logging.basicConfig(level=logging.INFO, format='%(asctime)s - %(levelname)s - %(message)s')"
   ]
  },
  {
   "cell_type": "code",
   "execution_count": 28,
   "metadata": {},
   "outputs": [],
   "source": [
    "@app.get(\"/status/\")\n",
    "async def status():\n",
    "    return {\"status\":\"ok\"}"
   ]
  },
  {
   "cell_type": "code",
   "execution_count": 29,
   "metadata": {},
   "outputs": [],
   "source": [
    "generation_config = {\n",
    "    \"temperature\":1,\n",
    "    \"top_p\":0.95,\n",
    "    \"top_k\":64,\n",
    "    \"max_output_tokens\":8192,\n",
    "    \"response_mime_type\": \"text/plain\"\n",
    "}"
   ]
  },
  {
   "cell_type": "code",
   "execution_count": 30,
   "metadata": {},
   "outputs": [],
   "source": [
    "model = genai.GenerativeModel(\n",
    "    model_name=\"gemini-2.0-flash-exp\", # Using experimental model for best results. Use 1.5 flash if this ever goes out of public access\n",
    "    generation_config=generation_config,\n",
    "    system_instruction= \"\"\"You are a helpful assistant that generates concise summaries. Based on the following extracted markdown from a website, \n",
    "    generate a concise summary in 2-3 sentences. JUST GIVE THE SUMMARY NOTHING ELSE, do not start with 'Here is the summary' or anything like that.\"\"\"\n",
    ")"
   ]
  },
  {
   "cell_type": "code",
   "execution_count": 31,
   "metadata": {},
   "outputs": [],
   "source": [
    "@app.get(\"/hello/\")\n",
    "async def hello():\n",
    "    prompt=\"hello world\"\n",
    "    response = model.generate_content(prompt)\n",
    "    return {\"gemini\":response.text}"
   ]
  },
  {
   "cell_type": "code",
   "execution_count": 32,
   "metadata": {},
   "outputs": [],
   "source": [
    "async def extract_content(url: str) -> str:\n",
    "    \"\"\"Extract content from URL using Markdowner\"\"\"\n",
    "    try:\n",
    "        scrape_result=fcapp.scrape_url(url, params={'formats': ['markdown']})\n",
    "        if scrape_result:\n",
    "            return scrape_result[\"markdown\"]\n",
    "        else:\n",
    "            logging.error(f\"Failed to fetch content from {url} using firecrawl\")\n",
    "            raise HTTPException(status_code=500, detail=\"Firecrawl Extraction Failed\")\n",
    "    except Exception as e:\n",
    "        logging.error(f\"Error fetching data from {url}: {e}\")\n",
    "        raise HTTPException(status_code=500, detail=str(e))"
   ]
  },
  {
   "cell_type": "code",
   "execution_count": 33,
   "metadata": {},
   "outputs": [],
   "source": [
    "async def generate_summary(data: str) -> str:\n",
    "    \"\"\"Generate summary using Gemini\"\"\"\n",
    "    try:\n",
    "        summary = model.generate_content(f\"Extracted markdown data: {data}\").text\n",
    "        logging.info(f\"Successfully generated summary: {summary}\")\n",
    "        return summary\n",
    "    except Exception as e:\n",
    "        logging.error(f\"Error generating summary: {e}\")\n",
    "        raise HTTPException(status_code=500, detail=f\"Error generating summary: {str(e)}\")"
   ]
  },
  {
   "cell_type": "code",
   "execution_count": 34,
   "metadata": {},
   "outputs": [],
   "source": [
    "async def generate_embedding(summary: str, task_type: str = \"retrieval_document\") -> List[float]:  \n",
    "    \"\"\"Generate embedding using Gemini\"\"\"\n",
    "    try:\n",
    "        embedding_result = await asyncio.to_thread(\n",
    "            genai.embed_content,\n",
    "            model=\"models/text-embedding-004\",\n",
    "            content=summary,\n",
    "            task_type=task_type,\n",
    "            title=\"Embedding\"\n",
    "        )\n",
    "        logging.info(f\"Successfully generated embedding for summary: {summary}\")\n",
    "        return embedding_result['embedding']\n",
    "    except Exception as e:\n",
    "        logging.error(f\"Error generating embedding: {e}\")\n",
    "        raise HTTPException(status_code=500, detail=f\"Error generating embedding: {str(e)}\")"
   ]
  },
  {
   "cell_type": "code",
   "execution_count": 35,
   "metadata": {},
   "outputs": [],
   "source": [
    "@app.post(\"/summarize/\")\n",
    "async def summarize_url(data: Request):\n",
    "    \"\"\"\n",
    "    Endpoint to receive URL, extract content and return summary\n",
    "    Expects JSON: {\"url\": \"https://example.com\"}\n",
    "    \"\"\"\n",
    "    # Parse request body\n",
    "    request = await data.json()\n",
    "    \n",
    "    if \"url\" not in request:\n",
    "        logging.error(\"URL not provided in request\")\n",
    "        raise HTTPException(status_code=400, detail=\"URL not provided\")\n",
    "    \n",
    "    url = request[\"url\"]\n",
    "    logging.info(f\"Received request to summarize URL: {url}\")\n",
    "    \n",
    "    # Extract content using new endpoint\n",
    "    content = await extract_content(url)\n",
    "    \n",
    "    # Generate summary\n",
    "    summary = await generate_summary(content)\n",
    "    \n",
    "    # Generate embedding\n",
    "    embedding = await generate_embedding(summary)\n",
    "    \n",
    "    # Check if URL exists and insert if it doesn't\n",
    "    try:\n",
    "        # Check for existing URL\n",
    "        existing = supabase.table(\"links\").select(\"id\").eq(\"link\", url).execute()\n",
    "        \n",
    "        if existing.data:\n",
    "            # URL already exists, skip insertion\n",
    "            logging.info(f\"URL already exists in database: {url}\")\n",
    "            return {\"summary\": summary}\n",
    "            \n",
    "        # URL doesn't exist, proceed with insertion\n",
    "        result = supabase.table(\"links\").insert({\n",
    "            \"link\": url,\n",
    "            \"summary\": summary,\n",
    "            \"vector\": embedding\n",
    "        }).execute()\n",
    "        \n",
    "        if not result.data:\n",
    "            logging.error(f\"Failed to insert data into Supabase for URL: {url}\")\n",
    "            raise HTTPException(status_code=500, detail=\"Failed to insert data into Supabase\")\n",
    "            \n",
    "        logging.info(f\"Successfully inserted data for URL: {url}, data: {result.data}\")\n",
    "        \n",
    "    except Exception as e:\n",
    "        logging.error(f\"Supabase insertion error for URL: {url}, error: {str(e)}\")\n",
    "        raise HTTPException(status_code=500, detail=f\"Error inserting into database: {str(e)}\")\n",
    "    \n",
    "    return {\"summary\": summary}"
   ]
  },
  {
   "cell_type": "code",
   "execution_count": 36,
   "metadata": {},
   "outputs": [],
   "source": [
    "@app.post(\"/search/\")\n",
    "async def search(userquery: Request):\n",
    "    \"\"\"\n",
    "    Endpoint to search for similar links based on a query\n",
    "    expects: \n",
    "    {\n",
    "        \"query\":\"<query>\"\n",
    "        \"k\":<number>\n",
    "    }\n",
    "    \"\"\"\n",
    "    try:\n",
    "        request = await userquery.json()\n",
    "        query_text = request.get(\"query\")\n",
    "        k = request.get(\"k\")\n",
    "        # Generate embedding for the query\n",
    "        query_embedding = await asyncio.to_thread(\n",
    "            genai.embed_content,\n",
    "            model=\"models/text-embedding-004\",\n",
    "            content=query_text,\n",
    "            task_type=\"retrieval_query\",\n",
    "        )\n",
    "\n",
    "        # Fetch all vectors from the links table\n",
    "        response = supabase.table(\"links\").select(\"id, link, vector\").execute()\n",
    "        links = response.data\n",
    "\n",
    "        if not links:\n",
    "            logging.info(\"No links found in database\")\n",
    "            return {\"matches\": []}\n",
    "\n",
    "        # Prepare data for FAISS\n",
    "        vectors = []\n",
    "        ids = []\n",
    "        for link in links:\n",
    "            if link['vector'] is not None:\n",
    "                try:\n",
    "                    vector = json.loads(link['vector'])\n",
    "                    vectors.append(vector)\n",
    "                    ids.append(link['id'])\n",
    "                except json.JSONDecodeError:\n",
    "                    logging.error(f\"Error decoding vector for link {link['id']}\")\n",
    "\n",
    "        vectors = np.array(vectors, dtype=np.float32)\n",
    "\n",
    "        # Create FAISS index\n",
    "        dimension = len(query_embedding['embedding'])\n",
    "        index = faiss.IndexFlatL2(dimension)\n",
    "        index.add(vectors)\n",
    "\n",
    "        # Perform the search\n",
    "        distance, indices = index.search(np.array([query_embedding['embedding']], dtype=np.float32), k)\n",
    "\n",
    "        # Get the IDs of the closest matches\n",
    "        closest_matches = [ids[i] for i in indices[0]]\n",
    "        logging.info(f\"Search results for query '{query_text}': {closest_matches}\")\n",
    "        return {\"matches\": closest_matches}\n",
    "\n",
    "    except Exception as e:\n",
    "        logging.error(f\"Error during search: {e}\")\n",
    "        raise HTTPException(status_code=500, detail=f\"Error during search: {str(e)}\")"
   ]
  },
  {
   "cell_type": "code",
   "execution_count": 37,
   "metadata": {},
   "outputs": [
    {
     "name": "stderr",
     "output_type": "stream",
     "text": [
      "INFO:     Started server process [10892]\n",
      "INFO:     Waiting for application startup.\n",
      "INFO:     Application startup complete.\n",
      "INFO:     Uvicorn running on http://0.0.0.0:8000 (Press CTRL+C to quit)\n"
     ]
    },
    {
     "name": "stdout",
     "output_type": "stream",
     "text": [
      "INFO:     127.0.0.1:55334 - \"OPTIONS /search/ HTTP/1.1\" 200 OK\n"
     ]
    },
    {
     "name": "stderr",
     "output_type": "stream",
     "text": [
      "2025-01-23 17:53:26,040 - INFO - HTTP Request: GET https://kjslkashpdgeeabtihbb.supabase.co/rest/v1/links?select=id%2C%20link%2C%20vector \"HTTP/2 200 OK\"\n",
      "2025-01-23 17:53:26,073 - INFO - Search results for query 'android terminal emulator': [1, 3]\n"
     ]
    },
    {
     "name": "stdout",
     "output_type": "stream",
     "text": [
      "INFO:     127.0.0.1:55334 - \"POST /search/ HTTP/1.1\" 200 OK\n"
     ]
    },
    {
     "name": "stderr",
     "output_type": "stream",
     "text": [
      "2025-01-23 17:54:47,923 - INFO - HTTP Request: GET https://kjslkashpdgeeabtihbb.supabase.co/rest/v1/links?select=id%2C%20link%2C%20vector \"HTTP/2 200 OK\"\n",
      "2025-01-23 17:54:47,926 - INFO - Search results for query 'android terminal emulator': [1, 3]\n"
     ]
    },
    {
     "name": "stdout",
     "output_type": "stream",
     "text": [
      "INFO:     127.0.0.1:55417 - \"POST /search/ HTTP/1.1\" 200 OK\n"
     ]
    },
    {
     "name": "stderr",
     "output_type": "stream",
     "text": [
      "2025-01-23 17:55:42,663 - INFO - HTTP Request: GET https://kjslkashpdgeeabtihbb.supabase.co/rest/v1/links?select=id%2C%20link%2C%20vector \"HTTP/2 200 OK\"\n",
      "2025-01-23 17:55:42,666 - INFO - Search results for query 'android terminal emulator': [1, 3]\n"
     ]
    },
    {
     "name": "stdout",
     "output_type": "stream",
     "text": [
      "INFO:     127.0.0.1:55418 - \"POST /search/ HTTP/1.1\" 200 OK\n"
     ]
    },
    {
     "name": "stderr",
     "output_type": "stream",
     "text": [
      "2025-01-23 17:57:25,247 - INFO - HTTP Request: GET https://kjslkashpdgeeabtihbb.supabase.co/rest/v1/links?select=id%2C%20link%2C%20vector \"HTTP/2 200 OK\"\n",
      "2025-01-23 17:57:25,256 - INFO - Search results for query 'android emulator': [1, 3]\n"
     ]
    },
    {
     "name": "stdout",
     "output_type": "stream",
     "text": [
      "INFO:     127.0.0.1:55553 - \"POST /search/ HTTP/1.1\" 200 OK\n"
     ]
    },
    {
     "name": "stderr",
     "output_type": "stream",
     "text": [
      "2025-01-23 17:58:39,635 - INFO - HTTP Request: GET https://kjslkashpdgeeabtihbb.supabase.co/rest/v1/links?select=id%2C%20link%2C%20vector \"HTTP/2 200 OK\"\n",
      "2025-01-23 17:58:39,639 - INFO - Search results for query 'android emulator': [1, 3]\n"
     ]
    },
    {
     "name": "stdout",
     "output_type": "stream",
     "text": [
      "INFO:     127.0.0.1:55598 - \"POST /search/ HTTP/1.1\" 200 OK\n"
     ]
    },
    {
     "name": "stderr",
     "output_type": "stream",
     "text": [
      "INFO:     Shutting down\n",
      "INFO:     Waiting for application shutdown.\n",
      "INFO:     Application shutdown complete.\n",
      "INFO:     Finished server process [10892]\n"
     ]
    }
   ],
   "source": [
    "if __name__ == \"__main__\":\n",
    "    # Only using this for ipynb\n",
    "    import nest_asyncio\n",
    "    nest_asyncio.apply()\n",
    "    uvicorn.run(app, host=\"0.0.0.0\", port=8000)"
   ]
  }
 ],
 "metadata": {
  "kernelspec": {
   "display_name": "Python 3",
   "language": "python",
   "name": "python3"
  },
  "language_info": {
   "codemirror_mode": {
    "name": "ipython",
    "version": 3
   },
   "file_extension": ".py",
   "mimetype": "text/x-python",
   "name": "python",
   "nbconvert_exporter": "python",
   "pygments_lexer": "ipython3",
   "version": "3.11.8"
  }
 },
 "nbformat": 4,
 "nbformat_minor": 2
}
